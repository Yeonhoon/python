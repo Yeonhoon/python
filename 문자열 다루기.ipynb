{
 "metadata": {
  "language_info": {
   "codemirror_mode": {
    "name": "ipython",
    "version": 3
   },
   "file_extension": ".py",
   "mimetype": "text/x-python",
   "name": "python",
   "nbconvert_exporter": "python",
   "pygments_lexer": "ipython3",
   "version": "3.8.3-final"
  },
  "orig_nbformat": 2,
  "kernelspec": {
   "name": "python3",
   "display_name": "Python 3"
  }
 },
 "nbformat": 4,
 "nbformat_minor": 2,
 "cells": [
  {
   "source": [
    "import tqdm\n",
    "import pandas as pd\n",
    "import numpy as np\n",
    "import urllib.request \n"
   ],
   "cell_type": "code",
   "metadata": {},
   "execution_count": 2,
   "outputs": []
  },
  {
   "source": [
    "# 문자열 나누기\n",
    "\n",
    "val = 'a,b, guido'\n",
    "val.split(',')"
   ],
   "cell_type": "code",
   "metadata": {},
   "execution_count": 179,
   "outputs": [
    {
     "output_type": "execute_result",
     "data": {
      "text/plain": [
       "['a', 'b', ' guido']"
      ]
     },
     "metadata": {},
     "execution_count": 179
    }
   ]
  },
  {
   "cell_type": "code",
   "execution_count": 180,
   "metadata": {},
   "outputs": [
    {
     "output_type": "execute_result",
     "data": {
      "text/plain": [
       "['a', 'b', 'guido']"
      ]
     },
     "metadata": {},
     "execution_count": 180
    }
   ],
   "source": [
    "piece = [x.strip() for x in val.split(',')] # strip: 공백문자를 제거\n",
    "piece"
   ]
  },
  {
   "cell_type": "code",
   "execution_count": 183,
   "metadata": {},
   "outputs": [
    {
     "output_type": "execute_result",
     "data": {
      "text/plain": [
       "'abguido'"
      ]
     },
     "metadata": {},
     "execution_count": 183
    }
   ],
   "source": [
    "# 문자열 합치기: join\n",
    "' '.join(piece) # ''에는 단어 사이에 삽입할 것 추가하기."
   ]
  },
  {
   "cell_type": "code",
   "execution_count": 15,
   "metadata": {},
   "outputs": [
    {
     "output_type": "error",
     "ename": "ValueError",
     "evalue": "substring not found",
     "traceback": [
      "\u001b[1;31m---------------------------------------------------------------------------\u001b[0m",
      "\u001b[1;31mValueError\u001b[0m                                Traceback (most recent call last)",
      "\u001b[1;32m<ipython-input-15-4a27f65aa2c1>\u001b[0m in \u001b[0;36m<module>\u001b[1;34m\u001b[0m\n\u001b[0;32m      1\u001b[0m \u001b[1;31m# 부분 문자열의 위치 찾기\u001b[0m\u001b[1;33m\u001b[0m\u001b[1;33m\u001b[0m\u001b[1;33m\u001b[0m\u001b[0m\n\u001b[0;32m      2\u001b[0m \u001b[1;34m'guido'\u001b[0m \u001b[1;32min\u001b[0m \u001b[0mval\u001b[0m\u001b[1;33m\u001b[0m\u001b[1;33m\u001b[0m\u001b[0m\n\u001b[1;32m----> 3\u001b[1;33m \u001b[0mval\u001b[0m\u001b[1;33m.\u001b[0m\u001b[0mindex\u001b[0m\u001b[1;33m(\u001b[0m\u001b[1;34m':'\u001b[0m\u001b[1;33m)\u001b[0m\u001b[1;33m\u001b[0m\u001b[1;33m\u001b[0m\u001b[0m\n\u001b[0m\u001b[0;32m      4\u001b[0m \u001b[0mval\u001b[0m\u001b[1;33m.\u001b[0m\u001b[0mfind\u001b[0m\u001b[1;33m(\u001b[0m\u001b[1;34m':'\u001b[0m\u001b[1;33m)\u001b[0m \u001b[1;31m#find의 경우 문자열을 찾지 못하면 예외(-1) 발생시킴\u001b[0m\u001b[1;33m\u001b[0m\u001b[1;33m\u001b[0m\u001b[0m\n",
      "\u001b[1;31mValueError\u001b[0m: substring not found"
     ]
    }
   ],
   "source": [
    "# 부분 문자열의 위치 찾기\n",
    "'guido' in val\n",
    "val.index(':') # 찾고자 하는 문자열이 없으면 에러\n",
    "val.find(':') #find의 경우 문자열을 찾지 못하면 예외(-1) 발생시킴"
   ]
  },
  {
   "cell_type": "code",
   "execution_count": 18,
   "metadata": {},
   "outputs": [
    {
     "output_type": "execute_result",
     "data": {
      "text/plain": [
       "'a::b:: guido'"
      ]
     },
     "metadata": {},
     "execution_count": 18
    }
   ],
   "source": [
    "val.count(',') # 해당 문자열이 몇 개 있는지 세기\n",
    "val.replace(',','::') #replace: 대체하기"
   ]
  },
  {
   "cell_type": "code",
   "execution_count": 16,
   "metadata": {},
   "outputs": [
    {
     "output_type": "execute_result",
     "data": {
      "text/plain": [
       "     a_1111    a_23.0    a_3_rk       a_가       a_a     a_0.0       b_1  \\\n",
       "0  0.965959  0.764362  0.384998  0.703728  0.873069  0.261616  0.223236   \n",
       "1  0.501837  0.377745  0.790779  0.712402  0.643715  0.825830  0.395709   \n",
       "2  0.656222  0.458582  0.371191  0.004943  0.954931  0.331434  0.687444   \n",
       "3  0.602372  0.260663  0.371128  0.238188  0.573036  0.871620  0.251111   \n",
       "4  0.513189  0.945729  0.078813  0.485963  0.004607  0.720360  0.011364   \n",
       "5  0.992895  0.860470  0.872190  0.655176  0.099534  0.575047  0.967967   \n",
       "6  0.878283  0.846110  0.295887  0.068828  0.609183  0.670227  0.755158   \n",
       "7  0.601874  0.190975  0.183881  0.354890  0.666633  0.856159  0.608895   \n",
       "8  0.197363  0.104355  0.399323  0.838806  0.968083  0.785875  0.089369   \n",
       "9  0.214507  0.686222  0.191521  0.841924  0.808715  0.783924  0.420742   \n",
       "\n",
       "        b_2      b_89       b_가       b_a       b_0  \n",
       "0  0.144782  0.720417  0.825819  0.028958  0.352681  \n",
       "1  0.921430  0.618360  0.840042  0.961137  0.913078  \n",
       "2  0.031380  0.862994  0.763867  0.384465  0.083109  \n",
       "3  0.775175  0.977029  0.656438  0.180636  0.186412  \n",
       "4  0.224602  0.677796  0.557555  0.472900  0.357631  \n",
       "5  0.313945  0.907668  0.764077  0.398298  0.913867  \n",
       "6  0.296723  0.160860  0.882363  0.661091  0.266352  \n",
       "7  0.807120  0.575917  0.643675  0.419549  0.047284  \n",
       "8  0.327731  0.799008  0.342587  0.504578  0.557340  \n",
       "9  0.408528  0.053335  0.065706  0.909607  0.799443  "
      ],
      "text/html": "<div>\n<style scoped>\n    .dataframe tbody tr th:only-of-type {\n        vertical-align: middle;\n    }\n\n    .dataframe tbody tr th {\n        vertical-align: top;\n    }\n\n    .dataframe thead th {\n        text-align: right;\n    }\n</style>\n<table border=\"1\" class=\"dataframe\">\n  <thead>\n    <tr style=\"text-align: right;\">\n      <th></th>\n      <th>a_1111</th>\n      <th>a_23.0</th>\n      <th>a_3_rk</th>\n      <th>a_가</th>\n      <th>a_a</th>\n      <th>a_0.0</th>\n      <th>b_1</th>\n      <th>b_2</th>\n      <th>b_89</th>\n      <th>b_가</th>\n      <th>b_a</th>\n      <th>b_0</th>\n    </tr>\n  </thead>\n  <tbody>\n    <tr>\n      <th>0</th>\n      <td>0.965959</td>\n      <td>0.764362</td>\n      <td>0.384998</td>\n      <td>0.703728</td>\n      <td>0.873069</td>\n      <td>0.261616</td>\n      <td>0.223236</td>\n      <td>0.144782</td>\n      <td>0.720417</td>\n      <td>0.825819</td>\n      <td>0.028958</td>\n      <td>0.352681</td>\n    </tr>\n    <tr>\n      <th>1</th>\n      <td>0.501837</td>\n      <td>0.377745</td>\n      <td>0.790779</td>\n      <td>0.712402</td>\n      <td>0.643715</td>\n      <td>0.825830</td>\n      <td>0.395709</td>\n      <td>0.921430</td>\n      <td>0.618360</td>\n      <td>0.840042</td>\n      <td>0.961137</td>\n      <td>0.913078</td>\n    </tr>\n    <tr>\n      <th>2</th>\n      <td>0.656222</td>\n      <td>0.458582</td>\n      <td>0.371191</td>\n      <td>0.004943</td>\n      <td>0.954931</td>\n      <td>0.331434</td>\n      <td>0.687444</td>\n      <td>0.031380</td>\n      <td>0.862994</td>\n      <td>0.763867</td>\n      <td>0.384465</td>\n      <td>0.083109</td>\n    </tr>\n    <tr>\n      <th>3</th>\n      <td>0.602372</td>\n      <td>0.260663</td>\n      <td>0.371128</td>\n      <td>0.238188</td>\n      <td>0.573036</td>\n      <td>0.871620</td>\n      <td>0.251111</td>\n      <td>0.775175</td>\n      <td>0.977029</td>\n      <td>0.656438</td>\n      <td>0.180636</td>\n      <td>0.186412</td>\n    </tr>\n    <tr>\n      <th>4</th>\n      <td>0.513189</td>\n      <td>0.945729</td>\n      <td>0.078813</td>\n      <td>0.485963</td>\n      <td>0.004607</td>\n      <td>0.720360</td>\n      <td>0.011364</td>\n      <td>0.224602</td>\n      <td>0.677796</td>\n      <td>0.557555</td>\n      <td>0.472900</td>\n      <td>0.357631</td>\n    </tr>\n    <tr>\n      <th>5</th>\n      <td>0.992895</td>\n      <td>0.860470</td>\n      <td>0.872190</td>\n      <td>0.655176</td>\n      <td>0.099534</td>\n      <td>0.575047</td>\n      <td>0.967967</td>\n      <td>0.313945</td>\n      <td>0.907668</td>\n      <td>0.764077</td>\n      <td>0.398298</td>\n      <td>0.913867</td>\n    </tr>\n    <tr>\n      <th>6</th>\n      <td>0.878283</td>\n      <td>0.846110</td>\n      <td>0.295887</td>\n      <td>0.068828</td>\n      <td>0.609183</td>\n      <td>0.670227</td>\n      <td>0.755158</td>\n      <td>0.296723</td>\n      <td>0.160860</td>\n      <td>0.882363</td>\n      <td>0.661091</td>\n      <td>0.266352</td>\n    </tr>\n    <tr>\n      <th>7</th>\n      <td>0.601874</td>\n      <td>0.190975</td>\n      <td>0.183881</td>\n      <td>0.354890</td>\n      <td>0.666633</td>\n      <td>0.856159</td>\n      <td>0.608895</td>\n      <td>0.807120</td>\n      <td>0.575917</td>\n      <td>0.643675</td>\n      <td>0.419549</td>\n      <td>0.047284</td>\n    </tr>\n    <tr>\n      <th>8</th>\n      <td>0.197363</td>\n      <td>0.104355</td>\n      <td>0.399323</td>\n      <td>0.838806</td>\n      <td>0.968083</td>\n      <td>0.785875</td>\n      <td>0.089369</td>\n      <td>0.327731</td>\n      <td>0.799008</td>\n      <td>0.342587</td>\n      <td>0.504578</td>\n      <td>0.557340</td>\n    </tr>\n    <tr>\n      <th>9</th>\n      <td>0.214507</td>\n      <td>0.686222</td>\n      <td>0.191521</td>\n      <td>0.841924</td>\n      <td>0.808715</td>\n      <td>0.783924</td>\n      <td>0.420742</td>\n      <td>0.408528</td>\n      <td>0.053335</td>\n      <td>0.065706</td>\n      <td>0.909607</td>\n      <td>0.799443</td>\n    </tr>\n  </tbody>\n</table>\n</div>"
     },
     "metadata": {},
     "execution_count": 16
    }
   ],
   "source": [
    "col = [\"a_1111\",\"a_23.0\",\"a_3_rk\",\"a_가\",\"a_a\", \"a_0.0\"] + [\"b_1\",\"b_2\",\"b_89\",\"b_가\",\"b_a\",\"b_0\"]\n",
    "arr = np.random.uniform(size=(10,len(col)))\n",
    "data = pd.DataFrame(arr, columns=col)\n",
    "can = [\"a\",\"b\"]\n",
    "filters = \"_[1-9a-zA-Z가-힣]|\".join(can)+\"_[0-5a-zA-Z]\"\n",
    "data"
   ]
  },
  {
   "cell_type": "code",
   "execution_count": 43,
   "metadata": {},
   "outputs": [
    {
     "output_type": "execute_result",
     "data": {
      "text/plain": [
       "        a_a       b_a\n",
       "0  0.873069  0.028958\n",
       "1  0.643715  0.961137\n",
       "2  0.954931  0.384465\n",
       "3  0.573036  0.180636\n",
       "4  0.004607  0.472900\n",
       "5  0.099534  0.398298\n",
       "6  0.609183  0.661091\n",
       "7  0.666633  0.419549\n",
       "8  0.968083  0.504578\n",
       "9  0.808715  0.909607"
      ],
      "text/html": "<div>\n<style scoped>\n    .dataframe tbody tr th:only-of-type {\n        vertical-align: middle;\n    }\n\n    .dataframe tbody tr th {\n        vertical-align: top;\n    }\n\n    .dataframe thead th {\n        text-align: right;\n    }\n</style>\n<table border=\"1\" class=\"dataframe\">\n  <thead>\n    <tr style=\"text-align: right;\">\n      <th></th>\n      <th>a_a</th>\n      <th>b_a</th>\n    </tr>\n  </thead>\n  <tbody>\n    <tr>\n      <th>0</th>\n      <td>0.873069</td>\n      <td>0.028958</td>\n    </tr>\n    <tr>\n      <th>1</th>\n      <td>0.643715</td>\n      <td>0.961137</td>\n    </tr>\n    <tr>\n      <th>2</th>\n      <td>0.954931</td>\n      <td>0.384465</td>\n    </tr>\n    <tr>\n      <th>3</th>\n      <td>0.573036</td>\n      <td>0.180636</td>\n    </tr>\n    <tr>\n      <th>4</th>\n      <td>0.004607</td>\n      <td>0.472900</td>\n    </tr>\n    <tr>\n      <th>5</th>\n      <td>0.099534</td>\n      <td>0.398298</td>\n    </tr>\n    <tr>\n      <th>6</th>\n      <td>0.609183</td>\n      <td>0.661091</td>\n    </tr>\n    <tr>\n      <th>7</th>\n      <td>0.666633</td>\n      <td>0.419549</td>\n    </tr>\n    <tr>\n      <th>8</th>\n      <td>0.968083</td>\n      <td>0.504578</td>\n    </tr>\n    <tr>\n      <th>9</th>\n      <td>0.808715</td>\n      <td>0.909607</td>\n    </tr>\n  </tbody>\n</table>\n</div>"
     },
     "metadata": {},
     "execution_count": 43
    }
   ],
   "source": [
    "# 정규식 공부하기\n",
    "\n",
    "#1. ^a: a로 시작하는 단어 찾기\n",
    "data.filter(regex=\"^(a|b)\")\n",
    "\n",
    "#2. a$: a로 끝나는 것 찾기\n",
    "data.filter(regex = \"(a|b)$\")\n"
   ]
  },
  {
   "cell_type": "code",
   "execution_count": 48,
   "metadata": {},
   "outputs": [
    {
     "output_type": "execute_result",
     "data": {
      "text/plain": [
       "     a_1111    a_23.0    a_3_rk       a_가       a_a     a_0.0       b_1  \\\n",
       "0  0.965959  0.764362  0.384998  0.703728  0.873069  0.261616  0.223236   \n",
       "1  0.501837  0.377745  0.790779  0.712402  0.643715  0.825830  0.395709   \n",
       "2  0.656222  0.458582  0.371191  0.004943  0.954931  0.331434  0.687444   \n",
       "3  0.602372  0.260663  0.371128  0.238188  0.573036  0.871620  0.251111   \n",
       "4  0.513189  0.945729  0.078813  0.485963  0.004607  0.720360  0.011364   \n",
       "5  0.992895  0.860470  0.872190  0.655176  0.099534  0.575047  0.967967   \n",
       "6  0.878283  0.846110  0.295887  0.068828  0.609183  0.670227  0.755158   \n",
       "7  0.601874  0.190975  0.183881  0.354890  0.666633  0.856159  0.608895   \n",
       "8  0.197363  0.104355  0.399323  0.838806  0.968083  0.785875  0.089369   \n",
       "9  0.214507  0.686222  0.191521  0.841924  0.808715  0.783924  0.420742   \n",
       "\n",
       "        b_2      b_89       b_가       b_a       b_0  \n",
       "0  0.144782  0.720417  0.825819  0.028958  0.352681  \n",
       "1  0.921430  0.618360  0.840042  0.961137  0.913078  \n",
       "2  0.031380  0.862994  0.763867  0.384465  0.083109  \n",
       "3  0.775175  0.977029  0.656438  0.180636  0.186412  \n",
       "4  0.224602  0.677796  0.557555  0.472900  0.357631  \n",
       "5  0.313945  0.907668  0.764077  0.398298  0.913867  \n",
       "6  0.296723  0.160860  0.882363  0.661091  0.266352  \n",
       "7  0.807120  0.575917  0.643675  0.419549  0.047284  \n",
       "8  0.327731  0.799008  0.342587  0.504578  0.557340  \n",
       "9  0.408528  0.053335  0.065706  0.909607  0.799443  "
      ],
      "text/html": "<div>\n<style scoped>\n    .dataframe tbody tr th:only-of-type {\n        vertical-align: middle;\n    }\n\n    .dataframe tbody tr th {\n        vertical-align: top;\n    }\n\n    .dataframe thead th {\n        text-align: right;\n    }\n</style>\n<table border=\"1\" class=\"dataframe\">\n  <thead>\n    <tr style=\"text-align: right;\">\n      <th></th>\n      <th>a_1111</th>\n      <th>a_23.0</th>\n      <th>a_3_rk</th>\n      <th>a_가</th>\n      <th>a_a</th>\n      <th>a_0.0</th>\n      <th>b_1</th>\n      <th>b_2</th>\n      <th>b_89</th>\n      <th>b_가</th>\n      <th>b_a</th>\n      <th>b_0</th>\n    </tr>\n  </thead>\n  <tbody>\n    <tr>\n      <th>0</th>\n      <td>0.965959</td>\n      <td>0.764362</td>\n      <td>0.384998</td>\n      <td>0.703728</td>\n      <td>0.873069</td>\n      <td>0.261616</td>\n      <td>0.223236</td>\n      <td>0.144782</td>\n      <td>0.720417</td>\n      <td>0.825819</td>\n      <td>0.028958</td>\n      <td>0.352681</td>\n    </tr>\n    <tr>\n      <th>1</th>\n      <td>0.501837</td>\n      <td>0.377745</td>\n      <td>0.790779</td>\n      <td>0.712402</td>\n      <td>0.643715</td>\n      <td>0.825830</td>\n      <td>0.395709</td>\n      <td>0.921430</td>\n      <td>0.618360</td>\n      <td>0.840042</td>\n      <td>0.961137</td>\n      <td>0.913078</td>\n    </tr>\n    <tr>\n      <th>2</th>\n      <td>0.656222</td>\n      <td>0.458582</td>\n      <td>0.371191</td>\n      <td>0.004943</td>\n      <td>0.954931</td>\n      <td>0.331434</td>\n      <td>0.687444</td>\n      <td>0.031380</td>\n      <td>0.862994</td>\n      <td>0.763867</td>\n      <td>0.384465</td>\n      <td>0.083109</td>\n    </tr>\n    <tr>\n      <th>3</th>\n      <td>0.602372</td>\n      <td>0.260663</td>\n      <td>0.371128</td>\n      <td>0.238188</td>\n      <td>0.573036</td>\n      <td>0.871620</td>\n      <td>0.251111</td>\n      <td>0.775175</td>\n      <td>0.977029</td>\n      <td>0.656438</td>\n      <td>0.180636</td>\n      <td>0.186412</td>\n    </tr>\n    <tr>\n      <th>4</th>\n      <td>0.513189</td>\n      <td>0.945729</td>\n      <td>0.078813</td>\n      <td>0.485963</td>\n      <td>0.004607</td>\n      <td>0.720360</td>\n      <td>0.011364</td>\n      <td>0.224602</td>\n      <td>0.677796</td>\n      <td>0.557555</td>\n      <td>0.472900</td>\n      <td>0.357631</td>\n    </tr>\n    <tr>\n      <th>5</th>\n      <td>0.992895</td>\n      <td>0.860470</td>\n      <td>0.872190</td>\n      <td>0.655176</td>\n      <td>0.099534</td>\n      <td>0.575047</td>\n      <td>0.967967</td>\n      <td>0.313945</td>\n      <td>0.907668</td>\n      <td>0.764077</td>\n      <td>0.398298</td>\n      <td>0.913867</td>\n    </tr>\n    <tr>\n      <th>6</th>\n      <td>0.878283</td>\n      <td>0.846110</td>\n      <td>0.295887</td>\n      <td>0.068828</td>\n      <td>0.609183</td>\n      <td>0.670227</td>\n      <td>0.755158</td>\n      <td>0.296723</td>\n      <td>0.160860</td>\n      <td>0.882363</td>\n      <td>0.661091</td>\n      <td>0.266352</td>\n    </tr>\n    <tr>\n      <th>7</th>\n      <td>0.601874</td>\n      <td>0.190975</td>\n      <td>0.183881</td>\n      <td>0.354890</td>\n      <td>0.666633</td>\n      <td>0.856159</td>\n      <td>0.608895</td>\n      <td>0.807120</td>\n      <td>0.575917</td>\n      <td>0.643675</td>\n      <td>0.419549</td>\n      <td>0.047284</td>\n    </tr>\n    <tr>\n      <th>8</th>\n      <td>0.197363</td>\n      <td>0.104355</td>\n      <td>0.399323</td>\n      <td>0.838806</td>\n      <td>0.968083</td>\n      <td>0.785875</td>\n      <td>0.089369</td>\n      <td>0.327731</td>\n      <td>0.799008</td>\n      <td>0.342587</td>\n      <td>0.504578</td>\n      <td>0.557340</td>\n    </tr>\n    <tr>\n      <th>9</th>\n      <td>0.214507</td>\n      <td>0.686222</td>\n      <td>0.191521</td>\n      <td>0.841924</td>\n      <td>0.808715</td>\n      <td>0.783924</td>\n      <td>0.420742</td>\n      <td>0.408528</td>\n      <td>0.053335</td>\n      <td>0.065706</td>\n      <td>0.909607</td>\n      <td>0.799443</td>\n    </tr>\n  </tbody>\n</table>\n</div>"
     },
     "metadata": {},
     "execution_count": 48
    }
   ],
   "source": [
    "\n",
    "# [a-z]: a와 z 사이의 문자 중 하나 찾기\n",
    "data.filter(regex=\"[a-z]\")\n",
    "\n",
    "# [xy]: x와 y중 하나 찾기\n",
    "data.filter(regex=\"[ab]\")\n",
    "\n",
    "# [^a]: a를 제외하고 찾기\n",
    "data.filter(regex=\"[^ab]\")\n",
    "\n",
    "# \\d: 숫자 값 찾기 (\\D: 숫자가 아닌 값)\n",
    "data.filter(regex='\\d')\n",
    "\n",
    "# x{n,m}: x를 n번 이상, m번 이하 반복한 문자찾기\n",
    "data.filter(regex=\"1{}\")\n",
    "\n",
    "# .x : x로 끝나는 문자 찾기\n",
    "data.filter(regex='.a')\n",
    "\n",
    "# x+: x가 한번 이상 반복됨\n",
    "data.filter(regex=\"1+\")\n",
    "\n",
    "# x*: x가 0번 이상 반복됨\n",
    "data.filter(regex=\"1*9\")\n",
    "\n",
    "# x?: x가 있어도 되고 없어도 됨\n",
    "data.filter(regex=\"0?\")\n",
    "\n"
   ]
  },
  {
   "cell_type": "code",
   "execution_count": 52,
   "metadata": {},
   "outputs": [],
   "source": [
    "import re # re는 정규식 표현 지원"
   ]
  },
  {
   "cell_type": "code",
   "execution_count": 84,
   "metadata": {},
   "outputs": [
    {
     "output_type": "stream",
     "name": "stdout",
     "text": [
      "None\n"
     ]
    },
    {
     "output_type": "execute_result",
     "data": {
      "text/plain": [
       "['안녕하시오', '반갑소', '내', '이름은', '장연훈이오']"
      ]
     },
     "metadata": {},
     "execution_count": 84
    }
   ],
   "source": [
    "p=re.compile('[a-z]+')\n",
    "\n",
    "# re.compile로 정규식 세워두고\n",
    "sen = '33 laughter is the best medicine'\n",
    "\n",
    "# m=p.match(\"a bananan\") # 문자열의 첫번째부터  \n",
    "# m = p.search('a banana') # 문자열 전체\n",
    "#result = p.findall(sen) # 모두 찾기\n",
    "\n",
    "m = p.match(sen)\n",
    "print(m) \n",
    "\n",
    "# group(), start(), end(), span(): 찾은 범위\n",
    "\n",
    "m= re.findall('[a-z가-힣]+', \"안녕하시오 반갑소 내 이름은 장연훈이오\")\n",
    "m"
   ]
  },
  {
   "cell_type": "code",
   "execution_count": 92,
   "metadata": {},
   "outputs": [
    {
     "output_type": "execute_result",
     "data": {
      "text/plain": [
       "['Dear', 'Mr', 'Potter', 'WE', 'Ministry', 'of', 'MAgic']"
      ]
     },
     "metadata": {},
     "execution_count": 92
    }
   ],
   "source": [
    "m= re.findall('[a-z가-힣]+', \"Dear Mr. Potter, WE Ministry of MAgic\", re.I) #re.I(gnorance): 대소문자 관련없이 찾아라\n",
    "m"
   ]
  },
  {
   "cell_type": "code",
   "execution_count": 96,
   "metadata": {},
   "outputs": [
    {
     "output_type": "stream",
     "name": "stdout",
     "text": [
      "['python one', 'python two', 'python three']\n"
     ]
    }
   ],
   "source": [
    "m=re.compile('^python\\s\\w+', re.MULTILINE) # ^는 첫 줄의 단어만 인식하는데, 만약 모든 줄에서 인식하게 하고 싶다면 re.MULTILINE\n",
    "data = \"\"\"python one\n",
    "life is too short\n",
    "python two\n",
    "you need python\n",
    "python three\n",
    "\"\"\"\n",
    "\n",
    "print(m.findall(data))"
   ]
  },
  {
   "cell_type": "code",
   "execution_count": 99,
   "metadata": {},
   "outputs": [
    {
     "output_type": "stream",
     "name": "stdout",
     "text": [
      "None\n"
     ]
    }
   ],
   "source": [
    "# r: raw string. 백슬래시 문자를 해석하지 않고 남겨둠.\n",
    "p=re.compile(r'\\bclass\\b') # \\b: word boundary(단어의 경계)\n",
    "# print(p.search('My class is better than yours'))\n",
    "print(p.search('subclass is better classess'))\n"
   ]
  },
  {
   "cell_type": "code",
   "execution_count": 135,
   "metadata": {},
   "outputs": [
    {
     "output_type": "stream",
     "name": "stdout",
     "text": [
      "jang Yeonhoon 010-5012-7795\n"
     ]
    }
   ],
   "source": [
    "p = re.compile(r'(\\w+)\\s+(\\w+)\\s+(\\d+[-]\\d+[-]\\d+)', re.MULTILINE) #\\w: 네임 찾기 #\\s: spacebar \\d:숫자\n",
    "m = p.search('jang Yeonhoon 010-5012-7795')\n",
    "print(m.group())  # group() 0: 매칭된 문장 전체, 1: 첫번쨰, 2: 2번째"
   ]
  },
  {
   "cell_type": "code",
   "execution_count": 139,
   "metadata": {},
   "outputs": [
    {
     "output_type": "stream",
     "name": "stdout",
     "text": [
      "010-5012-7795\n"
     ]
    }
   ],
   "source": [
    "#그룹에 이름 붙여주기 ?P<name>\n",
    "p = re.compile(r'(?P<name>\\w+)\\s+(\\w+)\\s+(?P<phone>\\d+[-]\\d+[-]\\d+)', re.MULTILINE) #\\w: 네임 찾기 #\\s: spacebar \\d:숫자, ?P<그룹명>: 그룹 이름 붙이기\n",
    "m = p.search('jang Yeonhoon 010-5012-7795')\n",
    "print(m.group(\"phone\"))"
   ]
  },
  {
   "cell_type": "code",
   "execution_count": 166,
   "metadata": {},
   "outputs": [
    {
     "output_type": "stream",
     "name": "stdout",
     "text": [
      "http://\nhttp:\nhttp://google.com\nxx.bat Asdg.exe\n"
     ]
    }
   ],
   "source": [
    "# 전방탐색\n",
    "p = re.compile(\".+://\") \n",
    "m = p.search('http://google.com')\n",
    "print(m.group())\n",
    "\n",
    "# 긍정형 전방탐색\n",
    "p = re.compile(\".+(?=//)\") #(?=x): x앞에 있는 글자 반환 \n",
    "m = p.search('http://google.com')\n",
    "print(m.group())\n",
    "\n",
    "# 부정형 전방탐색\n",
    "p = re.compile(\".+(?!=)\") #(?=x): x앞에 있는 글자 반환 \n",
    "m = p.search('http://google.com')\n",
    "print(m.group())\n",
    "\n",
    "p = re.compile(\"[a-zA-Z]*[.][?!bat$|exe$].*$\") #.*$: 파일명\n",
    "m = p.search('xx.bat Asdg.exe')\n",
    "print(m.group())"
   ]
  },
  {
   "cell_type": "code",
   "execution_count": 176,
   "metadata": {},
   "outputs": [
    {
     "output_type": "execute_result",
     "data": {
      "text/plain": [
       "'010-5240-9233 홍미령'"
      ]
     },
     "metadata": {},
     "execution_count": 176
    }
   ],
   "source": [
    "# 문자열 바꾸기\n",
    "p = re.compile('blue|white|red')\n",
    "p.sub('color', 'blue pants, white cum, red sex') # sub : 문자 바꾸기\n",
    "\n",
    "p= re.compile('안녕하세요|잘가세요|내일봐요')\n",
    "p.sub('인사','안녕하세요 저는 홍미령 남친입니다. 내일봐요. 잘가세요')\n",
    "\n",
    "p = re.compile(r'(?P<name>\\w+)\\s+(?P<phone>\\d+[-]\\d+[-]\\d+)')\n",
    "p.sub('\\g<phone> \\g<name>','장연훈 010-5012-7795') # \\g<>: ?P< >로 이름 지은 것을 불러낼 수 있음\n",
    "p.sub('\\g<2> \\g<1>', \"홍미령 010-5240-9233\")\n",
    " "
   ]
  }
 ]
}