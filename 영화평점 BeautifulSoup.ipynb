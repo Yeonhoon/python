{
 "metadata": {
  "language_info": {
   "codemirror_mode": {
    "name": "ipython",
    "version": 3
   },
   "file_extension": ".py",
   "mimetype": "text/x-python",
   "name": "python",
   "nbconvert_exporter": "python",
   "pygments_lexer": "ipython3",
   "version": "3.8.3-final"
  },
  "orig_nbformat": 2,
  "kernelspec": {
   "name": "python3",
   "display_name": "Python 3"
  }
 },
 "nbformat": 4,
 "nbformat_minor": 2,
 "cells": [
  {
   "cell_type": "code",
   "execution_count": null,
   "metadata": {},
   "outputs": [],
   "source": [
    "from bs4 import BeautifulSoup\n",
    "import pandas as pd\n",
    "import urllib\n",
    "from tqdm import tqdm_notebook, tqdm_pandas"
   ]
  },
  {
   "cell_type": "code",
   "execution_count": null,
   "metadata": {},
   "outputs": [],
   "source": [
    "from urllib.request import urlopen\n",
    "url_base = 'http://www.gametrics.com/'\n",
    "url_sub = 'Rank/Rank02.aspx'\n",
    "page = url_base + url_sub\n",
    "html = urlopen(page)\n",
    "soup = BeautifulSoup(html, 'html.parser')\n",
    "name_tmp=soup.find('table').find_all('a') #23 31 39 등 8번씩 늘어남\n",
    "\n",
    "# 게임명 찾기\n",
    "names =[]\n",
    "for i in [23,31,39,47,55,63,71,79]:\n",
    "    names.append(name_tmp[i].get_text())\n",
    "\n",
    "names"
   ]
  },
  {
   "cell_type": "code",
   "execution_count": null,
   "metadata": {},
   "outputs": [],
   "source": [
    "# 점유율 찾기(rates)\n",
    "rate = soup.find('table').find_all('td',{'width':\"90\"}) #3 5 7 9\n",
    "rate\n",
    "rates_tmp = []\n",
    "rates = []\n",
    "for i in [3,5,7,9,11,13,15,17]:\n",
    "    rates_tmp.append(rate[i].get_text())\n",
    "\n",
    "rates_tmp\n",
    "\n",
    "for j in list(range(0,8)):\n",
    "    rates.append(rates_tmp[j].split('\\r\\n\\t\\t\\t\\t\\t\\t\\t\\t\\t\\t\\t                              %')[0])\n",
    "\n",
    "rates"
   ]
  },
  {
   "cell_type": "code",
   "execution_count": null,
   "metadata": {},
   "outputs": [],
   "source": [
    "pd.DataFrame(columns=[names,rates])"
   ]
  },
  {
   "cell_type": "code",
   "execution_count": null,
   "metadata": {},
   "outputs": [],
   "source": [
    "url_base = 'https://movie.naver.com/'\n",
    "url_sub = 'movie/sdb/rank/rmovie.nhn?sel=cur&date=20190413'\n",
    "\n",
    "html = urlopen(url_base + url_sub)\n",
    "\n",
    "soup = BeautifulSoup(html, 'html.parser')\n",
    "soup.find_all('td',{'class':'point'})[0].get_text()\n",
    "\n",
    "date = pd.date_range(start='2019-04-13', end='2019-05-31', freq='D')\n",
    "\n",
    "movie_date = []\n",
    "lists = []\n",
    "rates = []\n",
    "\n",
    "for today in tqdm_notebook(date):\n",
    "    html = \"https://movie.naver.com/movie/sdb/rank/rmovie.nhn?sel=cur&date={date}\"\n",
    "    response = urlopen(html.format(date = urllib.parse.quote(today.strftime('%Y%m%d'))))\n",
    "    soup = BeautifulSoup(response, 'html.parser')\n",
    "\n",
    "    # end = len(soup.find_all('td','point'))\n",
    "\n",
    "    movie_date.extend([today for n in range(0, 10)]) # 상위 10개 데이터만 추출\n",
    "    lists.extend([soup.find_all('div','tit5')[n].a.string for n in range(0,10)])\n",
    "    rates.extend([soup.find_all('td','point')[n].string for n in range(0,10)])"
   ]
  },
  {
   "cell_type": "code",
   "execution_count": null,
   "metadata": {},
   "outputs": [],
   "source": [
    "tqdm.pandas()"
   ]
  },
  {
   "cell_type": "code",
   "execution_count": null,
   "metadata": {},
   "outputs": [],
   "source": [
    "\n",
    "lists = []\n",
    "rates = []\n",
    "for i in range(0,10):\n",
    "    \n",
    "    lists.append(soup.find_all('div','tit5')[i].get_text().split('\\n')[1])\n",
    "    rates.append(soup.find_all('td',{'class':'point'})[i].get_text())\n",
    "\n",
    "\n",
    "\n",
    "\n",
    "\n",
    "movies = pd.DataFrame({'name': lists, 'points': rates})\n",
    "\n"
   ]
  },
  {
   "cell_type": "code",
   "execution_count": 280,
   "metadata": {},
   "outputs": [
    {
     "output_type": "execute_result",
     "data": {
      "text/plain": [
       "name\n",
       "그린 북                   9.62\n",
       "가버나움                   9.60\n",
       "교회오빠                   9.55\n",
       "베일리 어게인                9.54\n",
       "당갈                     9.43\n",
       "알라딘                    9.43\n",
       "어벤져스: 엔드게임             9.42\n",
       "보헤미안 랩소디               9.42\n",
       "호텔 뭄바이                 9.38\n",
       "지금, 만나러 갑니다            9.34\n",
       "폴란드로 간 아이들             9.33\n",
       "울지마 톤즈                 9.33\n",
       "크게 될 놈                 9.31\n",
       "로망                     9.31\n",
       "나의 특별한 형제              9.31\n",
       "뽀로로 극장판 보물섬 대모험        9.30\n",
       "위대한 독재자                9.28\n",
       "천녀유혼                   9.28\n",
       "가위손                    9.25\n",
       "나, 다니엘 블레이크            9.25\n",
       "우리들                    9.24\n",
       "극장판 헬로카봇 : 백악기 시대      9.24\n",
       "어느 가족                  9.23\n",
       "칠곡 가시나들                9.22\n",
       "바람과 함께 사라지다            9.22\n",
       "러빙 빈센트                 9.21\n",
       "벤허                     9.20\n",
       "영웅본색                   9.19\n",
       "서서평, 천천히 평온하게          9.18\n",
       "내 사랑                   9.17\n",
       "바울                     9.17\n",
       "극장판 공룡메카드: 타이니소어의 섬    9.16\n",
       "배심원들                   9.13\n",
       "Name: point, dtype: float64"
      ]
     },
     "metadata": {},
     "execution_count": 280
    }
   ],
   "source": [
    "movie = pd.DataFrame({'date':movie_date, 'name': lists, 'point':rates})\n",
    "movie.head()\n",
    "movie['point']=movie['point'].astype(float)\n",
    "movie.groupby(['name'])['point'].mean().round(2).sort_values(ascending=False)\n",
    "\n",
    "\n"
   ]
  },
  {
   "cell_type": "code",
   "execution_count": null,
   "metadata": {},
   "outputs": [],
   "source": [
    "import numpy as np\n",
    "\n",
    "# movie_mean = pd.pivot_table(movie, index= ['name'], columns=['date'], aggfunc=np.mean)\n",
    "movie_mean = pd.pivot_table(movie, index= ['name'], aggfunc=np.mean)\n",
    "\n",
    "movie_best = movie_mean.sort_values(by = 'point', ascending = False).round(2)\n"
   ]
  },
  {
   "cell_type": "code",
   "execution_count": null,
   "metadata": {},
   "outputs": [],
   "source": [
    "# 특정 영화 평점 추이 확인하기\n",
    "\n",
    "tmp = movie.query('name  == [\"어벤져스: 엔드게임\"]')\n",
    "tmp\n"
   ]
  },
  {
   "cell_type": "code",
   "execution_count": null,
   "metadata": {},
   "outputs": [],
   "source": [
    "import matplotlib.pyplot as plt\n",
    "%matplotlib inline\n",
    "\n",
    "plt.figure(figsize=(12,8))\n",
    "plt.plot(tmp['date'],tmp['point'])\n",
    "plt.grid()\n",
    "plt.title(\"어벤져스: 엔드게임 평점 변화 그래프\")\n",
    "plt.show()"
   ]
  },
  {
   "cell_type": "code",
   "execution_count": 319,
   "metadata": {},
   "outputs": [
    {
     "output_type": "execute_result",
     "data": {
      "text/plain": [
       "['가버나움',\n",
       " '가위손',\n",
       " '교회오빠',\n",
       " '그린 북',\n",
       " '극장판 공룡메카드: 타이니소어의 섬',\n",
       " '극장판 헬로카봇 : 백악기 시대',\n",
       " '나, 다니엘 블레이크',\n",
       " '나의 특별한 형제',\n",
       " '내 사랑',\n",
       " '당갈',\n",
       " '러빙 빈센트',\n",
       " '로망',\n",
       " '바람과 함께 사라지다',\n",
       " '바울',\n",
       " '배심원들',\n",
       " '베일리 어게인',\n",
       " '벤허',\n",
       " '보헤미안 랩소디',\n",
       " '뽀로로 극장판 보물섬 대모험',\n",
       " '서서평, 천천히 평온하게',\n",
       " '알라딘',\n",
       " '어느 가족',\n",
       " '어벤져스: 엔드게임',\n",
       " '영웅본색',\n",
       " '우리들',\n",
       " '울지마 톤즈',\n",
       " '위대한 독재자',\n",
       " '지금, 만나러 갑니다',\n",
       " '천녀유혼',\n",
       " '칠곡 가시나들',\n",
       " '크게 될 놈',\n",
       " '폴란드로 간 아이들',\n",
       " '호텔 뭄바이']"
      ]
     },
     "metadata": {},
     "execution_count": 319
    }
   ],
   "source": [
    "movies_list =  movie.pivot_table(index='date', columns='name').columns\n",
    "\n",
    "movies_lists=[]\n",
    "\n",
    "for i in range(0,33):\n",
    "    movies_lists.append(movies_list[i][1])\n",
    "\n",
    "movies_lists\n"
   ]
  },
  {
   "cell_type": "code",
   "execution_count": null,
   "metadata": {},
   "outputs": [],
   "source": [
    "# 영화별 날짜에 따른 평점변화 확인\n",
    "movie.head()\n",
    "movie_pivot = pd.pivot_table(movie, index=['date'], columns=['name'],values='point')\n",
    "movie_pivot.head"
   ]
  },
  {
   "cell_type": "code",
   "execution_count": null,
   "metadata": {},
   "outputs": [],
   "source": [
    "import platform\n",
    "\n",
    "from matplotlib import font_manager, rc\n",
    "plt.rcParams['axes.unicode_minus']=False\n",
    "\n",
    "if platform.system() == \"Windows\":\n",
    "    path = \"C:\\Windows\\Fonts/NanumGothic.ttf\"\n",
    "    font_name = font_manager.FontProperties(fname = path).get_name()\n",
    "    rc('font', family=font_name)\n",
    "else:\n",
    "    print('Unknown System...')\n",
    "%matplotlib inline\n",
    "movie_pivot.plot(y=['그린 북','어벤져스: 엔드게임','벤허'], figsize=(12,6))\n",
    "plt.legend(loc='best')\n",
    "plt.grid()\n",
    "plt.show()"
   ]
  }
 ]
}