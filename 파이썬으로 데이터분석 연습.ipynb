{
 "metadata": {
  "language_info": {
   "codemirror_mode": {
    "name": "ipython",
    "version": 3
   },
   "file_extension": ".py",
   "mimetype": "text/x-python",
   "name": "python",
   "nbconvert_exporter": "python",
   "pygments_lexer": "ipython3",
   "version": "3.8.3-final"
  },
  "orig_nbformat": 2,
  "kernelspec": {
   "name": "python3",
   "display_name": "Python 3"
  }
 },
 "nbformat": 4,
 "nbformat_minor": 2,
 "cells": [
  {
   "cell_type": "code",
   "execution_count": null,
   "metadata": {},
   "outputs": [],
   "source": [
    "import os\n",
    "os.getcwd()\n",
    "os.chdir('C:/Users/82105/Desktop/Python')"
   ]
  },
  {
   "cell_type": "code",
   "execution_count": null,
   "metadata": {},
   "outputs": [],
   "source": [
    "import pandas as pd\n",
    "\n",
    "df = pd.read_csv('csv/의료인_2차.csv', encoding='utf-8')"
   ]
  },
  {
   "cell_type": "code",
   "execution_count": 47,
   "metadata": {},
   "outputs": [
    {
     "output_type": "execute_result",
     "data": {
      "text/plain": [
       "0      3.000000\n",
       "1      3.000000\n",
       "2      4.000000\n",
       "3      3.333333\n",
       "4      5.000000\n",
       "         ...   \n",
       "616    3.333333\n",
       "617    2.666667\n",
       "618    3.000000\n",
       "619    3.333333\n",
       "620    3.333333\n",
       "Name: TO, Length: 621, dtype: float64"
      ]
     },
     "metadata": {},
     "execution_count": 47
    }
   ],
   "source": [
    "# select(starts_with)\n",
    "# 각 columns 들의 평균\n",
    "df.loc[:, df.columns.str.startswith('burnout_')].mean(axis=0) # 행 방향의 평균\n",
    "\n",
    "# columns들의 평균\n",
    "bo=df.loc[:,\"burnout_1\":\"burnout_16\"]\n",
    "to = df.loc[:,'turnover_1':'turnover_3']\n",
    "df['BO']=bo.mean(axis=1)\n",
    "df=df.assign(TO = to.mean(axis=1))\n",
    "df['TO']"
   ]
  }
 ]
}